{
  "nbformat": 4,
  "nbformat_minor": 0,
  "metadata": {
    "colab": {
      "name": "knn_regression.ipynb",
      "provenance": [],
      "collapsed_sections": [],
      "include_colab_link": true
    },
    "kernelspec": {
      "name": "python3",
      "display_name": "Python 3"
    }
  },
  "cells": [
    {
      "cell_type": "markdown",
      "metadata": {
        "id": "view-in-github",
        "colab_type": "text"
      },
      "source": [
        "<a href=\"https://colab.research.google.com/github/abirahsan007/ai-lab/blob/main/knn_regression.ipynb\" target=\"_parent\"><img src=\"https://colab.research.google.com/assets/colab-badge.svg\" alt=\"Open In Colab\"/></a>"
      ]
    },
    {
      "cell_type": "code",
      "metadata": {
        "id": "toVocwQHRMA8",
        "colab": {
          "base_uri": "https://localhost:8080/"
        },
        "outputId": "4ccdb665-dbf8-4c2c-afb1-5a3f423afeee"
      },
      "source": [
        "from google.colab import drive\n",
        "drive.mount('/content/gdrive')"
      ],
      "execution_count": 1,
      "outputs": [
        {
          "output_type": "stream",
          "text": [
            "Mounted at /content/gdrive\n"
          ],
          "name": "stdout"
        }
      ]
    },
    {
      "cell_type": "code",
      "metadata": {
        "id": "CKa8wt7tRM50"
      },
      "source": [
        "from numpy import genfromtxt\n",
        "data_path = '/content/gdrive/MyDrive/ai lab files/Dataset/diabetes.csv'\n",
        "my_data = genfromtxt(data_path, delimiter=',')"
      ],
      "execution_count": 3,
      "outputs": []
    },
    {
      "cell_type": "code",
      "metadata": {
        "id": "ZYvG-dCiTfU_"
      },
      "source": [
        "import random\n",
        "import math\n",
        "import operator\n",
        "from collections import Counter\n",
        "from statistics import mode\n",
        "import numpy as np\n",
        "\n",
        "data=my_data.tolist()\n",
        "\n",
        "train_set=[]\n",
        "val_set=[]\n",
        "test_set=[]\n",
        "\n",
        "random.shuffle(data) \n",
        "\n",
        "for s in range(len(data)):\n",
        "  r = random.uniform(0,1)\n",
        "  #print(data[s],r)\n",
        "  if r>=0 and r<=.7:\n",
        "    train_set.append(data[s])\n",
        "  if r>.7 and r<=.85:\n",
        "    val_set.append(data[s])\n",
        "  else:\n",
        "    test_set.append(data[s])\n",
        "\n",
        "\n",
        "val_array = np.array(val_set)  \n",
        "train_array = np.array(train_set)  \n",
        "test_array= np.array(test_set)"
      ],
      "execution_count": 4,
      "outputs": []
    },
    {
      "cell_type": "code",
      "metadata": {
        "id": "uTvfKhxgROn8",
        "colab": {
          "base_uri": "https://localhost:8080/"
        },
        "outputId": "b9cb40ee-85e7-4a26-8d40-5397436cd89e"
      },
      "source": [
        "k=15\n",
        "error=0\n",
        "\n",
        "L=[]\n",
        "for V in val_array:\n",
        "  for T in train_array:\n",
        "    distance = np.linalg.norm(V[ :-1]- T[ :-1])\n",
        "    L.append(distance)\n",
        "\n",
        "  L.sort()  \n",
        "  sample=L[:k]\n",
        "  #print(sample)\n",
        "  V_determined_output=sum(sample)/(len(sample))\n",
        "  V_true_output= V[V.shape[0]-1]\n",
        "  error=error+(V_determined_output - V_true_output)**2\n",
        "  #print(error)\n",
        "\n",
        "\n",
        "mean_squared_error= error/(len(V))\n",
        "print(f'Mean Squared error:')\n",
        "print(mean_squared_error)\n"
      ],
      "execution_count": 11,
      "outputs": [
        {
          "output_type": "stream",
          "text": [
            "Mean Squared error:\n",
            "173345.4119616419\n"
          ],
          "name": "stdout"
        }
      ]
    },
    {
      "cell_type": "markdown",
      "metadata": {
        "id": "SPblANe4SvmP"
      },
      "source": [
        "Test"
      ]
    },
    {
      "cell_type": "code",
      "metadata": {
        "id": "EkI7clHTRSdc",
        "colab": {
          "base_uri": "https://localhost:8080/"
        },
        "outputId": "fab7d17e-a88c-4a5c-aba5-be65b3f0e2fa"
      },
      "source": [
        "k=15\n",
        "error=0\n",
        "\n",
        "L=[]\n",
        "for V in test_array:\n",
        "  for T in train_array:\n",
        "    d = np.linalg.norm(V[ :-1]- T[ :-1])\n",
        "    L.append(d)\n",
        "\n",
        "  L.sort()  \n",
        "  sample=L[:k]\n",
        "  V_determined_output=sum(sample)/(len(sample))\n",
        "  V_true_output= V[V.shape[0]-1]\n",
        "  error=error+(V_determined_output - V_true_output)**2\n",
        "  #print(error)\n",
        "mean_standard_error= error/(len(V))\n",
        "print(f'Mean Squared error:')\n",
        "print(mean_standard_error)"
      ],
      "execution_count": 12,
      "outputs": [
        {
          "output_type": "stream",
          "text": [
            "Mean Squared error:\n",
            "994805.1731970449\n"
          ],
          "name": "stdout"
        }
      ]
    }
  ]
}