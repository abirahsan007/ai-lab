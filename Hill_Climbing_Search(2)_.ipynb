{
  "nbformat": 4,
  "nbformat_minor": 0,
  "metadata": {
    "colab": {
      "name": "Hill Climbing Search(2)..ipynb",
      "provenance": [],
      "authorship_tag": "ABX9TyPoenLfypCInT/hcU4AktkJ",
      "include_colab_link": true
    },
    "kernelspec": {
      "name": "python3",
      "display_name": "Python 3"
    },
    "language_info": {
      "name": "python"
    }
  },
  "cells": [
    {
      "cell_type": "markdown",
      "metadata": {
        "id": "view-in-github",
        "colab_type": "text"
      },
      "source": [
        "<a href=\"https://colab.research.google.com/github/abirahsan007/ai-lab/blob/main/Hill_Climbing_Search(2)_.ipynb\" target=\"_parent\"><img src=\"https://colab.research.google.com/assets/colab-badge.svg\" alt=\"Open In Colab\"/></a>"
      ]
    },
    {
      "cell_type": "markdown",
      "metadata": {
        "id": "TDoOhgBOBCIn"
      },
      "source": [
        "***Algorithm: Hill Climbing (Simulated Annealing)***"
      ]
    },
    {
      "cell_type": "code",
      "metadata": {
        "colab": {
          "base_uri": "https://localhost:8080/"
        },
        "id": "9lYtnqO2A7e9",
        "outputId": "3527e0dc-7e77-45f0-bc1d-c2a2456d981a"
      },
      "source": [
        "import random\n",
        "import math\n",
        "\n",
        "init = [2, 1, 5, 0, 8, 4, 10, 0, 20, 10]\n",
        "dell_e = 0\n",
        "\n",
        "\n",
        "def calculate_cost(state):\n",
        "\n",
        "\n",
        "    cost = 0\n",
        "\n",
        "    for i in range(len(state)):\n",
        "\n",
        "        for j in range (i+1, len(state)):\n",
        "\n",
        "            if state[j]<state[i]:\n",
        "                cost=cost+1\n",
        "\n",
        "\n",
        "    return cost\n",
        "\n",
        "\n",
        "\n",
        "\n",
        "\n",
        "def state_generation_simulated_annealing(current_state, current_state_cost):\n",
        "\n",
        "    temp_state = list(current_state)\n",
        "    min_state=[]\n",
        "    min_state_cost=current_state_cost\n",
        "\n",
        "    for i in range(len(current_state)):\n",
        "\n",
        "        for j in range(i+1,len(current_state)):\n",
        "            temp_state = list(current_state)\n",
        "            temp = temp_state[i]   \n",
        "            temp_state[i]=temp_state[j]\n",
        "            temp_state[j]=temp\n",
        "\n",
        "            temp_cost = calculate_cost(temp_state)\n",
        "\n",
        "\n",
        "            if temp_cost< current_state_cost:\n",
        "\n",
        "                current_state = list(temp_state)\n",
        "                current_state_cost = temp_cost\n",
        "\n",
        "\n",
        "\n",
        "            elif temp_cost==min_state_cost:\n",
        "                dell_e = -1\n",
        "                check = move_or_not(dell_e)\n",
        "\n",
        "\n",
        "\n",
        "                if check==1:\n",
        "                    current_state = list(temp_state)\n",
        "                    current_state_cost = temp_cost\n",
        "\n",
        "\n",
        "\n",
        "            else:\n",
        "                dell_e = temp_cost-min_state_cost\n",
        "                check = move_or_not(dell_e)\n",
        "\n",
        "                if check==1:\n",
        "                    current_state = list(temp_state)\n",
        "                    current_state_cost = temp_cost\n",
        "\n",
        "\n",
        "\n",
        "    return current_state,current_state_cost\n",
        "\n",
        "\n",
        "\n",
        "\n",
        "def move_or_not(dell_e):\n",
        "\n",
        "    limit = math.exp(dell_e)\n",
        "    rand =random.uniform(0,1)\n",
        "\n",
        "    if rand>=0 and rand<=limit:\n",
        "\n",
        "        return 1\n",
        "    else:\n",
        "        return 0\n",
        "\n",
        "\n",
        "\n",
        "def goal_test(state):\n",
        "\n",
        "    if calc_cost(state)==0:\n",
        "        return True\n",
        "    else:\n",
        "        return False\n",
        "\n",
        "\n",
        "\n",
        "state=list(init)\n",
        "cost = calculate_cost(state)\n",
        "while(goal_test(state)!=True):\n",
        "\n",
        "    state,cost = state_generation_simulated_annealing(state,cost)\n",
        "\n",
        "    if cost is None:\n",
        "        print(state)\n",
        "        break\n",
        "\n",
        "    print(\"State:Cost  \",state,\":\",cost)\n",
        "\n",
        "print(\"\\nFinal state:\",state , \"Cost:\",cost)"
      ],
      "execution_count": 7,
      "outputs": [
        {
          "output_type": "stream",
          "text": [
            "State:Cost   [10, 20, 0, 10, 4, 8, 0, 5, 1, 2] : 30\n",
            "State:Cost   [1, 0, 0, 2, 4, 5, 8, 10, 10, 20] : 2\n",
            "State:Cost   [20, 10, 10, 8, 5, 4, 2, 0, 0, 1] : 41\n",
            "State:Cost   [0, 0, 1, 2, 4, 5, 8, 10, 10, 20] : 0\n",
            "\n",
            "Final state: [0, 0, 1, 2, 4, 5, 8, 10, 10, 20] Cost: 0\n"
          ],
          "name": "stdout"
        }
      ]
    }
  ]
}