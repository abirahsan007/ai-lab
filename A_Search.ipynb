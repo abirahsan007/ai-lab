{
  "nbformat": 4,
  "nbformat_minor": 0,
  "metadata": {
    "colab": {
      "name": "A* Search.ipynb",
      "provenance": [],
      "collapsed_sections": [],
      "authorship_tag": "ABX9TyPuM168xHvhl/lnI1XgUjWx",
      "include_colab_link": true
    },
    "kernelspec": {
      "name": "python3",
      "display_name": "Python 3"
    },
    "language_info": {
      "name": "python"
    }
  },
  "cells": [
    {
      "cell_type": "markdown",
      "metadata": {
        "id": "view-in-github",
        "colab_type": "text"
      },
      "source": [
        "<a href=\"https://colab.research.google.com/github/abirahsan007/ai-lab/blob/main/A_Search.ipynb\" target=\"_parent\"><img src=\"https://colab.research.google.com/assets/colab-badge.svg\" alt=\"Open In Colab\"/></a>"
      ]
    },
    {
      "cell_type": "code",
      "metadata": {
        "colab": {
          "base_uri": "https://localhost:8080/"
        },
        "id": "MMXhD27nV7jz",
        "outputId": "c8d7a0b5-01d1-4ec5-f567-aebe16ab2f3a"
      },
      "source": [
        "node_dictionary={\n",
        "    0:'S',1:'A',2:'B',3:'C',4:'D'\n",
        "}\n",
        "\n",
        "h = [7, 6, 2, 1, 0]\n",
        "\n",
        "g = [[-1, 1, 4, -1, -1], \n",
        "        [-1, -1, 2, 5, 12], \n",
        "        [-1, -1, -1, 2, -1], \n",
        "        [-1, -1, -1, -1, 3], \n",
        "        [-1, -1, -1, -1, -1]] \n",
        "\n",
        "class node:\n",
        "\tdef __init__(self, node_num, prev_node_obj, actual_cost_so_far, total_cost):\n",
        "\t\tself.node_num = node_num\n",
        "\t\tself.prev_node_obj = prev_node_obj\n",
        "\t\tself.actual_cost_so_far = actual_cost_so_far\t \n",
        "\t\tself.total_cost = total_cost\t\n",
        "\n",
        "node_S = node(0, None, 0, 0+7)\n",
        "\n",
        "class minQ(object): \n",
        "\tdef __init__(self): \n",
        "\t\tself.queue = [] \n",
        "  \n",
        "\tdef empty(self): \n",
        "\t\treturn len(self.queue) == [] \n",
        "  \n",
        "\tdef put(self, node): \n",
        "\t\tself.queue.append(node) \n",
        "  \n",
        "\tdef get(self): \n",
        "\t\tmin = 0\t\t\n",
        "\t\tfor i in range(len(self.queue)): \n",
        "\t\t\tif self.queue[i].total_cost < self.queue[min].total_cost: \n",
        "\t\t\t\tmin = i \n",
        "\t\titem = self.queue[min] \n",
        "\t\tdel self.queue[min] \n",
        "\t\treturn item \n",
        "\n",
        "minQueue = minQ()\n",
        "minQueue.put(node_S)\n",
        "\n",
        "while not minQueue.empty():\n",
        "\tnode_obj = minQueue.get()\t\n",
        "\tprint('node_num: ', node_dictionary[node_obj.node_num],  ' Actual_cost_so_far ', node_obj.actual_cost_so_far, ' Total cost ', node_obj.total_cost)\n",
        "\n",
        "\tif node_dictionary[node_obj.node_num] == 'D':\n",
        "\t\tprint('Goal reached !! Optimal Cost : ', node_obj.total_cost)\n",
        "\t\tbreak\n",
        "\n",
        "\tx=0\n",
        "\tprint(g[node_obj.node_num])\n",
        "\tfor n in g[node_obj.node_num]:\n",
        "\t\tif n > -1:\n",
        "\t\t\tnew_actual_cost_so_far = node_obj.actual_cost_so_far + g[node_obj.node_num][x]\n",
        "\t\t\tnew_total_cost = new_actual_cost_so_far + h[x]\n",
        "\n",
        "\t\t\tnob = node(x, node_obj, new_actual_cost_so_far, new_total_cost)\n",
        "\t\t\tminQueue.put(nob)\n",
        "\n",
        "\t\tx=x+1\n",
        "y= []\n",
        "\n",
        "while node_obj.prev_node_obj is not None:\n",
        "\ty.append(node_dictionary[node_obj.node_num])\n",
        "\tnode_obj = node_obj.prev_node_obj\t\n",
        "\n",
        "y.append(node_dictionary[node_obj.node_num])\n",
        "print('Optimal Path : ',y[::-1])\n",
        "\n"
      ],
      "execution_count": 5,
      "outputs": [
        {
          "output_type": "stream",
          "text": [
            "node_num:  S  Actual_cost_so_far  0  Total cost  7\n",
            "[-1, 1, 4, -1, -1]\n",
            "node_num:  B  Actual_cost_so_far  4  Total cost  6\n",
            "[-1, -1, -1, 2, -1]\n",
            "node_num:  A  Actual_cost_so_far  1  Total cost  7\n",
            "[-1, -1, 2, 5, 12]\n",
            "node_num:  B  Actual_cost_so_far  3  Total cost  5\n",
            "[-1, -1, -1, 2, -1]\n",
            "node_num:  C  Actual_cost_so_far  5  Total cost  6\n",
            "[-1, -1, -1, -1, 3]\n",
            "node_num:  C  Actual_cost_so_far  6  Total cost  7\n",
            "[-1, -1, -1, -1, 3]\n",
            "node_num:  C  Actual_cost_so_far  6  Total cost  7\n",
            "[-1, -1, -1, -1, 3]\n",
            "node_num:  D  Actual_cost_so_far  8  Total cost  8\n",
            "Goal reached !! Optimal Cost :  8\n",
            "Optimal Path :  ['S', 'A', 'B', 'C', 'D']\n"
          ],
          "name": "stdout"
        }
      ]
    }
  ]
}