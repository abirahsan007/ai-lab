{
  "nbformat": 4,
  "nbformat_minor": 0,
  "metadata": {
    "colab": {
      "name": "Hill Climbing Search(1).ipynb",
      "provenance": [],
      "authorship_tag": "ABX9TyPULpfKc17ekgaBHmVI1vjB",
      "include_colab_link": true
    },
    "kernelspec": {
      "name": "python3",
      "display_name": "Python 3"
    },
    "language_info": {
      "name": "python"
    }
  },
  "cells": [
    {
      "cell_type": "markdown",
      "metadata": {
        "id": "view-in-github",
        "colab_type": "text"
      },
      "source": [
        "<a href=\"https://colab.research.google.com/github/abirahsan007/ai-lab/blob/main/Hill_Climbing_Search(1).ipynb\" target=\"_parent\"><img src=\"https://colab.research.google.com/assets/colab-badge.svg\" alt=\"Open In Colab\"/></a>"
      ]
    },
    {
      "cell_type": "markdown",
      "metadata": {
        "id": "mWAhD5Hq9fRG"
      },
      "source": [
        "***Algorithm: Hill Climbing (Steepest ascent)***\n"
      ]
    },
    {
      "cell_type": "code",
      "metadata": {
        "colab": {
          "base_uri": "https://localhost:8080/"
        },
        "id": "c9iaVQ0L9XeS",
        "outputId": "47380b16-2585-4e30-939f-fbbd311e5b41"
      },
      "source": [
        "init = [2, 1, 5, 0, 8, 4, 10, 0, 20, 10]\n",
        "\n",
        "\n",
        "def calculate_cost(state):\n",
        "\n",
        "\n",
        "    cost = 0\n",
        "\n",
        "    for i in range(len(state)):\n",
        "\n",
        "        for j in range (i+1, len(state)):\n",
        "\n",
        "            if state[j]<state[i]:\n",
        "                cost=cost+1\n",
        "\n",
        "\n",
        "    return cost\n",
        "\n",
        "\n",
        "\n",
        "\n",
        "\n",
        "def state_generation_steepest_ascent(current_state, current_state_cost):\n",
        "\n",
        "    temp_state = list(current_state)\n",
        "    min_state=[]\n",
        "    min_state_cost=current_state_cost\n",
        "\n",
        "    for i in range(len(current_state)):\n",
        "\n",
        "        for j in range(i+1,len(current_state)):\n",
        "            temp_state = list(current_state)\n",
        "            temp = temp_state[i]   \n",
        "            temp_state[i]=temp_state[j]\n",
        "            temp_state[j]=temp\n",
        "\n",
        "            temp_cost = calculate_cost(temp_state)\n",
        "\n",
        "\n",
        "            if temp_cost< min_state_cost:\n",
        "\n",
        "                min_state = list(temp_state)\n",
        "                min_state_cost = temp_cost\n",
        "\n",
        "\n",
        "    if min_state_cost< current_state_cost:\n",
        "        return min_state,min_state_cost\n",
        "\n",
        "    else:\n",
        "        return current_state, None\n",
        "\n",
        "\n",
        "def goal_test(state):\n",
        "\n",
        "    if calculate_cost(state)==0:\n",
        "        return True\n",
        "    else:\n",
        "        return False\n",
        "\n",
        "\n",
        "\n",
        "state=list(init)\n",
        "cost = calculate_cost(state)\n",
        "while(goal_test(state)!=True):\n",
        "\n",
        "    state,cost = state_generation_steepest_ascent(state,cost)\n",
        "\n",
        "    if cost is None:\n",
        "        print(state)\n",
        "        break\n",
        "\n",
        "    print(\"State:Cost  \",state,\":\",cost)\n",
        "\n",
        "print(\"\\nFinal state:\",state , \"Cost:\",cost)"
      ],
      "execution_count": 11,
      "outputs": [
        {
          "output_type": "stream",
          "text": [
            "State:Cost   [0, 1, 5, 0, 8, 4, 10, 2, 20, 10] : 9\n",
            "State:Cost   [0, 1, 2, 0, 8, 4, 10, 5, 20, 10] : 6\n",
            "State:Cost   [0, 0, 2, 1, 8, 4, 10, 5, 20, 10] : 5\n",
            "State:Cost   [0, 0, 1, 2, 8, 4, 10, 5, 20, 10] : 4\n",
            "State:Cost   [0, 0, 1, 2, 4, 8, 10, 5, 20, 10] : 3\n",
            "State:Cost   [0, 0, 1, 2, 4, 5, 10, 8, 20, 10] : 2\n",
            "State:Cost   [0, 0, 1, 2, 4, 5, 8, 10, 20, 10] : 1\n",
            "State:Cost   [0, 0, 1, 2, 4, 5, 8, 10, 10, 20] : 0\n",
            "\n",
            "Final state: [0, 0, 1, 2, 4, 5, 8, 10, 10, 20] Cost: 0\n"
          ],
          "name": "stdout"
        }
      ]
    }
  ]
}