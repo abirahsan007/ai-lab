{
  "nbformat": 4,
  "nbformat_minor": 0,
  "metadata": {
    "colab": {
      "name": "K-Means Clustering.ipynb",
      "private_outputs": true,
      "provenance": [],
      "authorship_tag": "ABX9TyNrlpPhJry5Bj8uNiIqDRV4",
      "include_colab_link": true
    },
    "kernelspec": {
      "name": "python3",
      "display_name": "Python 3"
    },
    "language_info": {
      "name": "python"
    }
  },
  "cells": [
    {
      "cell_type": "markdown",
      "metadata": {
        "id": "view-in-github",
        "colab_type": "text"
      },
      "source": [
        "<a href=\"https://colab.research.google.com/github/abirahsan007/ai-lab/blob/main/K_Means_Clustering.ipynb\" target=\"_parent\"><img src=\"https://colab.research.google.com/assets/colab-badge.svg\" alt=\"Open In Colab\"/></a>"
      ]
    },
    {
      "cell_type": "code",
      "metadata": {
        "id": "Uq16i-sUurpt"
      },
      "source": [
        "import numpy as np\n",
        "from copy import deepcopy\n",
        "import seaborn as sns; sns.set()\n",
        "from matplotlib import pyplot as plt\n",
        "\n",
        "\n",
        "url1 = 'https://raw.githubusercontent.com/abdarker/dataset/master/data.csv'\n",
        "data = np.genfromtxt(url1, delimiter=',')\n",
        "url2 = 'https://raw.githubusercontent.com/abdarker/dataset/master/centers.csv'\n",
        "centers = np.genfromtxt(url2, delimiter=',')\n",
        "\n",
        "c= centers.shape[0] \n",
        "d= data.shape[0] \n",
        "f= data.shape[1] \n",
        "  \n",
        "old_centers = np.zeros(centers.shape) \n",
        "temp_centers = deepcopy(centers) \n",
        "\n",
        "data.shape\n",
        "clusters = np.zeros(d)\n",
        "dist = np.zeros((d,c))\n",
        "  \n",
        "error = np.linalg.norm(temp_centers - old_centers)\n",
        "\n",
        "while error !=0:\n",
        "  for i in range(c):\n",
        "    dist[:,i] = np.linalg.norm(data - centers[i], axis=1)  \n",
        "  clusters = np.argmin(dist, axis = 1) \n",
        "   \n",
        "  old_centers= deepcopy(temp_centers)\n",
        "\n",
        "  for i in range(c):\n",
        "    temp_centers[i]= np.mean(data[clusters==i], axis=0) \n",
        "  error = np.linalg.norm(temp_centers - old_centers)\n",
        " \n",
        "colors = ['g', 'r', 'b', 'y', 'c', 'm']\n",
        "fig, ax = plt.subplots()\n",
        "print(\"Graph\")\n",
        "for i in range(c):\n",
        "  points = np.array([data[j] for j in range(len(data)) if clusters[j] == i])\n",
        "  ax.scatter(points[:, 0], points[:, 1], s=15, c=colors[i])\n",
        "ax.scatter(temp_centers[:, 0], temp_centers[:, 1], marker='*', s=100, c='#050505')"
      ],
      "execution_count": null,
      "outputs": []
    }
  ]
}