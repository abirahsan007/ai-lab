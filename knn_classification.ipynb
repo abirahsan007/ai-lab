{
  "nbformat": 4,
  "nbformat_minor": 0,
  "metadata": {
    "colab": {
      "name": "knn_classification.ipynb",
      "provenance": [],
      "collapsed_sections": [],
      "include_colab_link": true
    },
    "kernelspec": {
      "name": "python3",
      "display_name": "Python 3"
    }
  },
  "cells": [
    {
      "cell_type": "markdown",
      "metadata": {
        "id": "view-in-github",
        "colab_type": "text"
      },
      "source": [
        "<a href=\"https://colab.research.google.com/github/abirahsan007/ai-lab/blob/main/knn_classification.ipynb\" target=\"_parent\"><img src=\"https://colab.research.google.com/assets/colab-badge.svg\" alt=\"Open In Colab\"/></a>"
      ]
    },
    {
      "cell_type": "code",
      "metadata": {
        "id": "piF6wbVCxprJ",
        "colab": {
          "base_uri": "https://localhost:8080/"
        },
        "outputId": "61537a18-d6eb-4c23-c2a4-cb2232dc92d8"
      },
      "source": [
        "from google.colab import drive\n",
        "drive.mount('/content/gdrive')"
      ],
      "execution_count": 1,
      "outputs": [
        {
          "output_type": "stream",
          "text": [
            "Mounted at /content/gdrive\n"
          ],
          "name": "stdout"
        }
      ]
    },
    {
      "cell_type": "code",
      "metadata": {
        "id": "5Sewp3nk1qwN"
      },
      "source": [
        "from numpy import genfromtxt\n",
        "data_path = '/content/gdrive/MyDrive/ai lab files/Dataset/iris.csv'\n",
        "my_data = genfromtxt(data_path, delimiter=',')"
      ],
      "execution_count": 2,
      "outputs": []
    },
    {
      "cell_type": "code",
      "metadata": {
        "id": "577N6jlX2Xpl"
      },
      "source": [
        "import random\n",
        "import math\n",
        "import operator\n",
        "from collections import Counter\n",
        "from statistics import mode\n",
        "\n",
        "\n",
        "data=my_data.tolist()\n",
        "\n",
        "\n",
        "train_set=[]\n",
        "val_set=[]\n",
        "test_set=[]\n",
        "\n",
        "random.shuffle(data) \n",
        "\n",
        "for s in range(len(data)):\n",
        "  r = random.uniform(0,1)\n",
        "  #print(data[s],r)\n",
        "  if r>=0 and r<=.7:\n",
        "    train_set.append(data[s])\n",
        "  if r>.7 and r<=.85:\n",
        "    val_set.append(data[s])\n",
        "  else:\n",
        "    test_set.append(data[s])\n"
      ],
      "execution_count": 5,
      "outputs": []
    },
    {
      "cell_type": "code",
      "metadata": {
        "id": "-epQLJFzgimy",
        "colab": {
          "base_uri": "https://localhost:8080/"
        },
        "outputId": "8f031d0d-c319-42e0-f330-c0bac55796f0"
      },
      "source": [
        "k=15\n",
        "d_list=[]\n",
        "e=0\n",
        "for v in val_set:\n",
        "    for t in train_set:\n",
        "      for i in range(len(t)-1):\n",
        "        e=e+pow((v[i]-t[i]),2)\n",
        "        distance=math.sqrt(e)\n",
        "        d_list.append([distance,t])\n",
        "\n",
        "#print(d_list) \n",
        "d_list.sort()\n",
        "sample=d_list[0:k]\n",
        "m_class=[]\n",
        "\n",
        "for x in sample:\n",
        "  i=len(x[1])-1\n",
        "  m_class.append(x[1][i])\n",
        "#print(m_class)   \n",
        "\n",
        "majority=mode(m_class) \n",
        "#print(majority)\n",
        "\n",
        "correct=0\n",
        "for x in val_set:\n",
        "  if(x[4]==majority):\n",
        "    correct+=1\n",
        "#print(correct)\n",
        "accuracy=(correct/len(val_set))*100\n",
        "print(f'validation accuracy:')\n",
        "print(accuracy)"
      ],
      "execution_count": 26,
      "outputs": [
        {
          "output_type": "stream",
          "text": [
            "validation accuracy:\n",
            "31.818181818181817\n"
          ],
          "name": "stdout"
        }
      ]
    },
    {
      "cell_type": "markdown",
      "metadata": {
        "id": "dHXPGHivtvU3"
      },
      "source": [
        "For test set"
      ]
    },
    {
      "cell_type": "code",
      "metadata": {
        "id": "CSCMPYTRssaR",
        "colab": {
          "base_uri": "https://localhost:8080/"
        },
        "outputId": "27c9d728-a9cc-40a8-9b39-9035b119568a"
      },
      "source": [
        "k=15\n",
        "d_list=[]\n",
        "e=0\n",
        "for x in test_set:\n",
        "    for s in train_set:\n",
        "      for i in range(len(s)-1):\n",
        "        e=e+pow((x[i]-s[i]),2)\n",
        "        distance=math.sqrt(e)\n",
        "        d_list.append([distance,s])\n",
        "\n",
        "#print(d_list) \n",
        "d_list.sort()\n",
        "sample=d_list[0:k]\n",
        "m_class=[]\n",
        "\n",
        "for x in sample:\n",
        "  i=len(x[1])-1\n",
        "  m_class.append(x[1][i])\n",
        "#print(m_class)\n",
        "\n",
        "majority=mode(m_class) \n",
        "#print(maj)\n",
        "\n",
        "correct=0\n",
        "for x in test_set:\n",
        "  if(x[4]==majority):\n",
        "    correct+=1\n",
        "#print(correct)\n",
        "acc=(correct/len(test_set))*100\n",
        "print(f'Test accuracy: {acc}')"
      ],
      "execution_count": 27,
      "outputs": [
        {
          "output_type": "stream",
          "text": [
            "Test accuracy: 33.59375\n"
          ],
          "name": "stdout"
        }
      ]
    }
  ]
}