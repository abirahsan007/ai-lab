{
  "nbformat": 4,
  "nbformat_minor": 0,
  "metadata": {
    "colab": {
      "name": "logistic_regression.ipynb",
      "provenance": [],
      "include_colab_link": true
    },
    "kernelspec": {
      "name": "python3",
      "display_name": "Python 3"
    }
  },
  "cells": [
    {
      "cell_type": "markdown",
      "metadata": {
        "id": "view-in-github",
        "colab_type": "text"
      },
      "source": [
        "<a href=\"https://colab.research.google.com/github/abirahsan007/ai-lab/blob/main/logistic_regression.ipynb\" target=\"_parent\"><img src=\"https://colab.research.google.com/assets/colab-badge.svg\" alt=\"Open In Colab\"/></a>"
      ]
    },
    {
      "cell_type": "code",
      "metadata": {
        "id": "bwP0h08K6Jl5",
        "colab": {
          "base_uri": "https://localhost:8080/"
        },
        "outputId": "b9f7c144-bed9-4604-f989-8c097f17c649"
      },
      "source": [
        "from google.colab import drive\n",
        "drive.mount('/content/gdrive')"
      ],
      "execution_count": 1,
      "outputs": [
        {
          "output_type": "stream",
          "text": [
            "Mounted at /content/gdrive\n"
          ],
          "name": "stdout"
        }
      ]
    },
    {
      "cell_type": "code",
      "metadata": {
        "id": "PdEKn7BdK6El"
      },
      "source": [
        "from numpy import genfromtxt\n",
        "import matplotlib.pyplot as plt\n",
        "data_path = '/content/gdrive/MyDrive/ai lab files/Dataset/iris.csv'\n",
        "my_data = genfromtxt(data_path, delimiter=',')"
      ],
      "execution_count": 2,
      "outputs": []
    },
    {
      "cell_type": "code",
      "metadata": {
        "id": "5l3izEPA3mBT",
        "colab": {
          "base_uri": "https://localhost:8080/"
        },
        "outputId": "32821086-eaba-4ca4-dcc6-2d1cbaf5270e"
      },
      "source": [
        "data = my_data.tolist()\n",
        "for i in range(5):\n",
        "  print(data[i])\n",
        "type(data)"
      ],
      "execution_count": 3,
      "outputs": [
        {
          "output_type": "stream",
          "text": [
            "[5.1, 3.5, 1.4, 0.2, 0.0]\n",
            "[4.9, 3.0, 1.4, 0.2, 0.0]\n",
            "[4.7, 3.2, 1.3, 0.2, 0.0]\n",
            "[4.6, 3.1, 1.5, 0.2, 0.0]\n",
            "[5.0, 3.6, 1.4, 0.2, 0.0]\n"
          ],
          "name": "stdout"
        },
        {
          "output_type": "execute_result",
          "data": {
            "text/plain": [
              "list"
            ]
          },
          "metadata": {
            "tags": []
          },
          "execution_count": 3
        }
      ]
    },
    {
      "cell_type": "code",
      "metadata": {
        "id": "hwPzX58b360y"
      },
      "source": [
        "from sklearn import datasets\n",
        "import numpy as np\n",
        "iris = datasets.load_iris()\n",
        "X = iris.data[:, :2]\n",
        "y = (iris.target != 0) * 1"
      ],
      "execution_count": 4,
      "outputs": []
    },
    {
      "cell_type": "code",
      "metadata": {
        "colab": {
          "base_uri": "https://localhost:8080/"
        },
        "id": "FgR1DJ7G06o4",
        "outputId": "f7628d49-d1a7-41a3-d379-75630ee58342"
      },
      "source": [
        "print(X.shape)\n",
        "print(y.shape)\n",
        "print(y)\n",
        "ones=np.ones((150,1))\n",
        "X = np.concatenate((ones,X), axis = 1) \n",
        "\n",
        "\n",
        "train_data,train_label = X[0:100],y[0:100]\n",
        "val_data, val_label = X[100:125], y[100:125]\n",
        "test_data, test_label = X[125:150], y[125:150]\n",
        "#print(X)"
      ],
      "execution_count": 5,
      "outputs": [
        {
          "output_type": "stream",
          "text": [
            "(150, 2)\n",
            "(150,)\n",
            "[0 0 0 0 0 0 0 0 0 0 0 0 0 0 0 0 0 0 0 0 0 0 0 0 0 0 0 0 0 0 0 0 0 0 0 0 0\n",
            " 0 0 0 0 0 0 0 0 0 0 0 0 0 1 1 1 1 1 1 1 1 1 1 1 1 1 1 1 1 1 1 1 1 1 1 1 1\n",
            " 1 1 1 1 1 1 1 1 1 1 1 1 1 1 1 1 1 1 1 1 1 1 1 1 1 1 1 1 1 1 1 1 1 1 1 1 1\n",
            " 1 1 1 1 1 1 1 1 1 1 1 1 1 1 1 1 1 1 1 1 1 1 1 1 1 1 1 1 1 1 1 1 1 1 1 1 1\n",
            " 1 1]\n"
          ],
          "name": "stdout"
        }
      ]
    },
    {
      "cell_type": "code",
      "metadata": {
        "id": "ItlsPini5Jqq"
      },
      "source": [
        "np.random.seed(10)\n",
        "def sigmoid(z):\n",
        "    s = 1/(1+np.exp(-z))   \n",
        "    return s\n",
        "def log_loss(y,h) :    \n",
        "    loss = -y*np.log(h)-(1-y)*np.log(1-h)   \n",
        "    return loss\n",
        "def initialize_theta():   \n",
        "    return np.random.rand(3)\n"
      ],
      "execution_count": 6,
      "outputs": []
    },
    {
      "cell_type": "markdown",
      "metadata": {
        "id": "400S-Ih418_K"
      },
      "source": [
        "Training"
      ]
    },
    {
      "cell_type": "code",
      "metadata": {
        "id": "RmIqfZSu5cpY"
      },
      "source": [
        "training_loss = [] \n",
        "theta = initialize_theta() \n",
        "lr = .01\n",
        "for i in range(1000) :\n",
        "    \n",
        "    Tj = 0\n",
        "    for X,y in zip(train_data,train_label) :\n",
        "        \n",
        "        Z = np.dot(X,theta)\n",
        "        h = sigmoid(Z)\n",
        "        loss = log_loss(y,h) \n",
        "        dv = X*(h-y)\n",
        "        theta = theta - dv*lr\n",
        "        Tj = Tj+loss \n",
        "    Tj = Tj/len(X)\n",
        "    training_loss.append(Tj) \n"
      ],
      "execution_count": 25,
      "outputs": []
    },
    {
      "cell_type": "code",
      "metadata": {
        "colab": {
          "base_uri": "https://localhost:8080/",
          "height": 282
        },
        "id": "x7roqkEi2jwp",
        "outputId": "78aa9e1d-0ce1-4910-c27b-f677df1ff0b5"
      },
      "source": [
        "plt.plot(training_loss)"
      ],
      "execution_count": 26,
      "outputs": [
        {
          "output_type": "execute_result",
          "data": {
            "text/plain": [
              "[<matplotlib.lines.Line2D at 0x7f8387708a50>]"
            ]
          },
          "metadata": {
            "tags": []
          },
          "execution_count": 26
        },
        {
          "output_type": "display_data",
          "data": {
            "image/png": "[encoded data removed]",
            "text/plain": [
              "<Figure size 432x288 with 1 Axes>"
            ]
          },
          "metadata": {
            "tags": [],
            "needs_background": "light"
          }
        }
      ]
    },
    {
      "cell_type": "markdown",
      "metadata": {
        "id": "FUIxxwzE6PGQ"
      },
      "source": [
        "**Validation accuracy **"
      ]
    },
    {
      "cell_type": "code",
      "metadata": {
        "id": "bkELDVOl5e4M",
        "colab": {
          "base_uri": "https://localhost:8080/"
        },
        "outputId": "35eaf4c7-49e4-4277-adcb-bd69fad2fac6"
      },
      "source": [
        "correct = 0\n",
        "for X,y in zip(val_data,val_label) :\n",
        "        \n",
        "        Z = np.dot(X,theta) \n",
        "        h = sigmoid(Z) \n",
        "        #print(h)\n",
        "        #print(y)\n",
        "        if h>.5:\n",
        "            h=1\n",
        "        else :\n",
        "            h=0\n",
        "        if h==y :\n",
        "            correct +=1\n",
        "val_acc = correct/len(val_data)*100\n",
        "print('acc is',val_acc)"
      ],
      "execution_count": 24,
      "outputs": [
        {
          "output_type": "stream",
          "text": [
            "acc is 100.0\n"
          ],
          "name": "stdout"
        }
      ]
    },
    {
      "cell_type": "markdown",
      "metadata": {
        "id": "OQ1tB57P22gH"
      },
      "source": [
        "Testing"
      ]
    },
    {
      "cell_type": "code",
      "metadata": {
        "id": "6jEoPXy02zk6"
      },
      "source": [
        "testing_loss = [] \n",
        "theta = initialize_theta() \n",
        "lr = .1\n",
        "for i in range(1000) :\n",
        "    \n",
        "    Tj = 0\n",
        "    for X,y in zip(test_data,test_label) :\n",
        "        \n",
        "        Z = np.dot(X,theta)\n",
        "        h = sigmoid(Z)\n",
        "        loss = log_loss(y,h) \n",
        "        dv = X*(h-y)\n",
        "        theta = theta - dv*lr\n",
        "        Tj = Tj+loss \n",
        "    Tj = Tj/len(X)\n",
        "    testing_loss.append(Tj) "
      ],
      "execution_count": 27,
      "outputs": []
    },
    {
      "cell_type": "markdown",
      "metadata": {
        "id": "wZz_LOjq6fec"
      },
      "source": [
        "**Test accuracy**"
      ]
    },
    {
      "cell_type": "code",
      "metadata": {
        "id": "WlMQbNe59v0G",
        "colab": {
          "base_uri": "https://localhost:8080/"
        },
        "outputId": "99a6bdfb-f22f-48c5-eab2-1e1589e3c3dd"
      },
      "source": [
        "correct = 0\n",
        "for X,y in zip(test_data,test_label) :\n",
        "        \n",
        "        Z = np.dot(X,theta)\n",
        "        h = sigmoid(Z)\n",
        "        #print(h)\n",
        "        #print(y)\n",
        "        if h>.5:\n",
        "            h=1\n",
        "        else :\n",
        "            h=0\n",
        "        if h==y :\n",
        "            correct +=1\n",
        "test_acc = correct/len(test_data)*100\n",
        "print(\"test accuracy :\",test_acc)"
      ],
      "execution_count": 28,
      "outputs": [
        {
          "output_type": "stream",
          "text": [
            "test accuracy : 100.0\n"
          ],
          "name": "stdout"
        }
      ]
    }
  ]
}