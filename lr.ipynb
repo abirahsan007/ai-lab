{
  "nbformat": 4,
  "nbformat_minor": 0,
  "metadata": {
    "colab": {
      "name": "lr.ipynb",
      "provenance": [],
      "authorship_tag": "ABX9TyNZ9lycVhmgaTJ3LGEhFJZY",
      "include_colab_link": true
    },
    "kernelspec": {
      "name": "python3",
      "display_name": "Python 3"
    },
    "language_info": {
      "name": "python"
    }
  },
  "cells": [
    {
      "cell_type": "markdown",
      "metadata": {
        "id": "view-in-github",
        "colab_type": "text"
      },
      "source": [
        "<a href=\"https://colab.research.google.com/github/abirahsan007/ai-lab/blob/main/lr.ipynb\" target=\"_parent\"><img src=\"https://colab.research.google.com/assets/colab-badge.svg\" alt=\"Open In Colab\"/></a>"
      ]
    },
    {
      "cell_type": "code",
      "metadata": {
        "id": "qw-mxeM8Fpeu"
      },
      "source": [
        "from sklearn import datasets\n",
        "import numpy as np\n",
        "import random\n",
        "from matplotlib import pyplot as plt "
      ],
      "execution_count": 10,
      "outputs": []
    },
    {
      "cell_type": "code",
      "metadata": {
        "colab": {
          "base_uri": "https://localhost:8080/",
          "height": 282
        },
        "id": "TCdjo5nDA2D7",
        "outputId": "bdfa2b7e-093e-4e6c-b2c2-11260d6c52f0"
      },
      "source": [
        "def logisticTrain(LR):\n",
        "\n",
        "  iris = datasets.load_iris()\n",
        "  X = iris.data[:, :2]\n",
        "  y = (iris.target != 0) * 1\n",
        "\n",
        " \n",
        "  X=np.insert(X,0,1,axis=1)\n",
        "\n",
        "  \n",
        "  train_data,train_label = X[0:100],y[0:100]\n",
        "  val_data, val_label = X[100:125], y[100:125]\n",
        "  test_data, test_label = X[125:150], y[125:150]\n",
        "\n",
        "\n",
        "  Theta = np.random.rand(3)\n",
        "\n",
        "\n",
        "  def sigmoid(z):\n",
        "      return 1/(1+np.exp(-z))   \n",
        "\n",
        "  def loss(y,h) :    \n",
        "      loss = -y*np.log(h)-(1-y)*np.log(1-h) \n",
        "      return loss\n",
        "\n",
        "    \n",
        "  train_loss = []\n",
        "\n",
        "  for i in range(1000):\n",
        "    TJ = 0\n",
        "    lr = LR\n",
        "\n",
        "    for X,y in zip(train_data,train_label):\n",
        "\n",
        "      Z = np.dot(X,Theta)\n",
        "      h = sigmoid(Z)\n",
        "      J = loss(y,h)\n",
        "      \n",
        "      TJ = TJ+J\n",
        "      dv = X*(h-y)\n",
        "      Theta = Theta-dv*lr\n",
        "\n",
        "    TJ = TJ/len(train_label)\n",
        "    train_loss.append(TJ)\n",
        "\n",
        "  plt.plot(train_loss)\n",
        "  plt.show(train_loss)\n",
        "\n",
        "  #validation accuracy\n",
        "  correct = 0\n",
        "  for X,y in zip(val_data,val_label) :\n",
        "          \n",
        "          Z = np.dot(X,Theta) \n",
        "          h = sigmoid(Z) \n",
        "          \n",
        "          if h>=.5:\n",
        "              h=1\n",
        "          else :\n",
        "              h=0\n",
        "          if h==y :\n",
        "              correct +=1\n",
        "  val_acc = correct/len(val_label)*100\n",
        "  print('Validation accuracy is',val_acc,'% where lr = ',LR)\n",
        "  \n",
        "  \n",
        "logisticTrain(0.0001)\n",
        "    "
      ],
      "execution_count": 14,
      "outputs": [
        {
          "output_type": "display_data",
          "data": {
            "image/png": "[encoded data removed]",
            "text/plain": [
              "<Figure size 432x288 with 1 Axes>"
            ]
          },
          "metadata": {
            "tags": [],
            "needs_background": "light"
          }
        },
        {
          "output_type": "stream",
          "text": [
            "Validation accuracy is 100.0 % where lr =  0.0001\n"
          ],
          "name": "stdout"
        }
      ]
    },
    {
      "cell_type": "markdown",
      "metadata": {
        "id": "99eDjF80EWnU"
      },
      "source": [
        "Test accuracy for best LR"
      ]
    },
    {
      "cell_type": "code",
      "metadata": {
        "colab": {
          "base_uri": "https://localhost:8080/"
        },
        "id": "TEIYi2RaEftS",
        "outputId": "60f6fea0-40fc-4cd3-e736-fd7eaf64884e"
      },
      "source": [
        "def logisticTest(LR):\n",
        "\n",
        "  iris = datasets.load_iris()\n",
        "  X = iris.data[:, :2]\n",
        "  y = (iris.target != 0) * 1\n",
        "\n",
        " \n",
        "  X=np.insert(X,0,1,axis=1)\n",
        "\n",
        "  \n",
        "  train_data,train_label = X[0:100],y[0:100]\n",
        "  val_data, val_label = X[100:125], y[100:125]\n",
        "  test_data, test_label = X[125:150], y[125:150]\n",
        "\n",
        "\n",
        "  Theta = np.random.rand(3)\n",
        "\n",
        "\n",
        "  def sigmoid(z):\n",
        "      return 1/(1+np.exp(-z))   \n",
        "\n",
        "  def loss(y,h) :    \n",
        "      loss = -y*np.log(h)-(1-y)*np.log(1-h) \n",
        "      return loss\n",
        "\n",
        "    \n",
        "  train_loss = []\n",
        "\n",
        "  for i in range(1000):\n",
        "    TJ = 0\n",
        "    lr = LR\n",
        "\n",
        "    for X,y in zip(train_data,train_label):\n",
        "\n",
        "      Z = np.dot(X,Theta)\n",
        "      h = sigmoid(Z)\n",
        "      J = loss(y,h)\n",
        "      \n",
        "      TJ = TJ+J\n",
        "      dv = X*(h-y)\n",
        "      Theta = Theta-dv*lr\n",
        "\n",
        "    TJ = TJ/len(train_label)\n",
        "    train_loss.append(TJ)\n",
        "\n",
        "\n",
        "  #test accuracy\n",
        "  correct = 0\n",
        "  for X,y in zip(test_data,test_label) :\n",
        "          \n",
        "          Z = np.dot(X,Theta) \n",
        "          h = sigmoid(Z) \n",
        "          \n",
        "          if h>=.5:\n",
        "              h=1\n",
        "          else :\n",
        "              h=0\n",
        "          if h==y :\n",
        "              correct +=1\n",
        "  test_acc = correct/len(test_label)*100\n",
        "  print('Test accuracy is',test_acc,'% where lr = ',LR)\n",
        "  \n",
        "  \n",
        "logisticTest(0.0001)\n",
        "    "
      ],
      "execution_count": 15,
      "outputs": [
        {
          "output_type": "stream",
          "text": [
            "Test accuracy is 100.0 % where lr =  0.0001\n"
          ],
          "name": "stdout"
        }
      ]
    }
  ]
}